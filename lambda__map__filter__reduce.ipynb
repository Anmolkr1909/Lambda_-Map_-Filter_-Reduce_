{
  "nbformat": 4,
  "nbformat_minor": 0,
  "metadata": {
    "colab": {
      "provenance": [],
      "authorship_tag": "ABX9TyMeSikgLj0N1EMgpcnvjc9A",
      "include_colab_link": true
    },
    "kernelspec": {
      "name": "python3",
      "display_name": "Python 3"
    },
    "language_info": {
      "name": "python"
    }
  },
  "cells": [
    {
      "cell_type": "markdown",
      "metadata": {
        "id": "view-in-github",
        "colab_type": "text"
      },
      "source": [
        "<a href=\"https://colab.research.google.com/github/Anmolkr1909/Lambda_-Map_-Filter_-Reduce_/blob/main/lambda__map__filter__reduce.ipynb\" target=\"_parent\"><img src=\"https://colab.research.google.com/assets/colab-badge.svg\" alt=\"Open In Colab\"/></a>"
      ]
    },
    {
      "cell_type": "markdown",
      "source": [
        "#****Lambda****\n",
        "\n",
        "---\n",
        "\n",
        "\n",
        "\n",
        "---\n",
        "\n"
      ],
      "metadata": {
        "id": "FNyrg_TtW_R4"
      }
    },
    {
      "cell_type": "markdown",
      "source": [
        "68) Grocery Price Calculator App\n",
        "*  Add 10% GST to all items in cart using map(), lambda, and reduce()"
      ],
      "metadata": {
        "id": "h6DhmmWXegHg"
      }
    },
    {
      "cell_type": "code",
      "source": [
        "from functools import reduce\n",
        "\n",
        "# Prices of items in a grocery cart\n",
        "prices = [100, 250, 80, 150]\n",
        "\n",
        "# Add 10% GST using map and lambda\n",
        "with_gst = list(map(lambda x: x + (x * 0.10), prices))\n",
        "print(\"Prices after GST:\", with_gst)\n",
        "\n",
        "# Calculate total bill using reduce\n",
        "total = reduce(lambda x, y: x + y, with_gst)\n",
        "print(\"Total Bill:\", round(total, 2))\n"
      ],
      "metadata": {
        "colab": {
          "base_uri": "https://localhost:8080/"
        },
        "id": "1z0CH4C_ei98",
        "outputId": "4f8b0106-0ae7-4ff4-a45f-9bc887124fb2"
      },
      "execution_count": null,
      "outputs": [
        {
          "output_type": "stream",
          "name": "stdout",
          "text": [
            "Prices after GST: [110.0, 275.0, 88.0, 165.0]\n",
            "Total Bill: 638.0\n"
          ]
        }
      ]
    },
    {
      "cell_type": "markdown",
      "source": [
        "\n",
        "\n",
        "---\n",
        "\n"
      ],
      "metadata": {
        "id": "2i7mZPK1eiH6"
      }
    },
    {
      "cell_type": "markdown",
      "source": [
        "69) Student Pass Filter\n",
        "* Filter out only passed students (marks ≥ 40)"
      ],
      "metadata": {
        "id": "mQzb_lYQfA5G"
      }
    },
    {
      "cell_type": "code",
      "source": [
        "# List of student marks\n",
        "marks = [55, 32, 75, 39, 90, 20, 41]\n",
        "\n",
        "# Filter passed students using filter\n",
        "passed = list(filter(lambda x: x >= 40, marks))\n",
        "print(\"Passed Students' Marks:\", passed)\n"
      ],
      "metadata": {
        "colab": {
          "base_uri": "https://localhost:8080/"
        },
        "id": "ngfK7Ff5fAWK",
        "outputId": "178e64f3-5e48-446a-f9da-fb53ab23eed3"
      },
      "execution_count": null,
      "outputs": [
        {
          "output_type": "stream",
          "name": "stdout",
          "text": [
            "Passed Students' Marks: [55, 75, 90, 41]\n"
          ]
        }
      ]
    },
    {
      "cell_type": "markdown",
      "source": [
        "\n",
        "\n",
        "---\n",
        "\n"
      ],
      "metadata": {
        "id": "ePabs1OrfhSV"
      }
    },
    {
      "cell_type": "markdown",
      "source": [
        "70)  Email Validator\n",
        "*    Filter only valid Gmail IDs from a list"
      ],
      "metadata": {
        "id": "4yACsm5tfhLR"
      }
    },
    {
      "cell_type": "code",
      "source": [
        "# List of emails\n",
        "emails = [\"john@gmail.com\", \"alice@yahoo.com\", \"bob@gmail.com\", \"mark@outlook.com\"]\n",
        "\n",
        "# Filter only Gmail users\n",
        "gmail_users = list(filter(lambda email: email.endswith(\"@gmail.com\"), emails))\n",
        "print(\"Gmail Emails:\", gmail_users)\n"
      ],
      "metadata": {
        "colab": {
          "base_uri": "https://localhost:8080/"
        },
        "id": "rD-sVMGggR-b",
        "outputId": "f4589757-6443-47cf-b604-ae554dcc23c3"
      },
      "execution_count": null,
      "outputs": [
        {
          "output_type": "stream",
          "name": "stdout",
          "text": [
            "Gmail Emails: ['john@gmail.com', 'bob@gmail.com']\n"
          ]
        }
      ]
    },
    {
      "cell_type": "markdown",
      "source": [
        "\n",
        "\n",
        "---\n",
        "\n",
        "\n",
        "\n",
        "---\n",
        "\n"
      ],
      "metadata": {
        "id": "NRTn2oqdfin3"
      }
    }
  ]
}